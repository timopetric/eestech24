{
 "cells": [
  {
   "cell_type": "code",
   "execution_count": 9,
   "metadata": {},
   "outputs": [
    {
     "name": "stdout",
     "output_type": "stream",
     "text": [
      "../data/planinstvo/2022/*.csv\n",
      "              datum  vhodi  izhodi\n",
      "0  2022-06-20 10:30      0       0\n",
      "1  2022-06-20 11:00      0       0\n",
      "2  2022-06-20 11:30      0       0\n",
      "3  2022-06-20 12:00      2       0\n",
      "4  2022-06-20 12:30      0       0\n",
      "   vhodi  izhodi   datum_dan\n",
      "0      0       0  2022-06-20\n",
      "1      0       0  2022-06-20\n",
      "2      0       0  2022-06-20\n",
      "3      2       0  2022-06-20\n",
      "4      0       0  2022-06-20\n",
      "            vhodi  izhodi\n",
      "datum_dan                \n",
      "2022-06-20      3       0\n",
      "2022-06-21      2       2\n",
      "2022-06-22      0       0\n",
      "2022-06-23      0       0\n",
      "2022-06-24      1       0\n"
     ]
    }
   ],
   "source": [
    "# read csv into df\n",
    "import pandas as pd\n",
    "import numpy as np\n",
    "import matplotlib.pyplot as plt\n",
    "from constants import *\n",
    "from glob import glob\n",
    "from datetime import datetime\n",
    "\n",
    "\n",
    "print(DATA_GLOB_PLANINSKE_MAKRO_2022)\n",
    "\n",
    "for path in glob(DATA_GLOB_PLANINSKE_MAKRO_2022):\n",
    "    print(path)\n",
    "    df_planine = pd.read_csv(path, sep=',', encoding='UTF-8')\n",
    "    assert df_planine.columns[0] == 'datum', f\"columns[0] = {df_planine.columns[0]}\"\n",
    "    assert df_planine.columns[1] == 'vhodi', f\"columns[1] = {df_planine.columns[1]}\"\n",
    "    assert df_planine.columns[2] == 'izhodi', f\"columns[2] = {df_planine.columns[2]}\"\n",
    "    print(df_planine.head())\n",
    "\n",
    "    \n",
    "    # split \"datum\" by space\n",
    "    df_planine['datum'] = df_planine['datum'].str.split(' ')\n",
    "    df_planine['datum_dan'] = df_planine['datum'].str[0]\n",
    "    # df_planine['datum_ura'] = df_planine['datum'].str[1]\n",
    "    # drop \"datum\" column\n",
    "    df_planine = df_planine.drop(columns=['datum'])\n",
    "    print(df_planine.head())\n",
    "    # sum vhodi and izhodi based on \"datum_dan\"\n",
    "    df_planine = df_planine.groupby('datum_dan').sum()\n",
    "    print(df_planine.head())\n",
    "\n",
    "    \n",
    "    break\n"
   ]
  }
 ],
 "metadata": {
  "kernelspec": {
   "display_name": "dm",
   "language": "python",
   "name": "python3"
  },
  "language_info": {
   "codemirror_mode": {
    "name": "ipython",
    "version": 3
   },
   "file_extension": ".py",
   "mimetype": "text/x-python",
   "name": "python",
   "nbconvert_exporter": "python",
   "pygments_lexer": "ipython3",
   "version": "3.11.5"
  }
 },
 "nbformat": 4,
 "nbformat_minor": 2
}
