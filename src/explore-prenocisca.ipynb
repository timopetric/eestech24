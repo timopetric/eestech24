{
 "cells": [
  {
   "cell_type": "code",
   "execution_count": null,
   "metadata": {},
   "outputs": [],
   "source": [
    "%load_ext autoreload\n",
    "%autoreload 2"
   ]
  },
  {
   "cell_type": "code",
   "execution_count": null,
   "metadata": {},
   "outputs": [],
   "source": [
    "# read csv into df\n",
    "import pandas as pd\n",
    "import numpy as np\n",
    "import matplotlib.pyplot as plt\n",
    "from constants import *\n",
    "from glob import glob\n",
    "from datetime import datetime\n",
    "import os\n",
    "\n",
    "\n",
    "# import data from csv prenocisca \n",
    "# data is in folder data/prenocisca\n",
    "# data is in format:\n",
    "# \"DAN\",\"DR�AVA\",\"SLOVENIJA Preno�itve turistov\",\"Pomurska Preno�itve turistov\",\"Podravska Preno�itve turistov\",\"Koro�ka Preno�itve turistov\",\"Savinjska Preno�itve turistov\",\"Zasavska Preno�itve turistov\",\"Posavska Preno�itve turistov\",\"Jugovzhodna Slovenija Preno�itve turistov\",\"Osrednjeslovenska Preno�itve turistov\",\"Gorenjska Preno�itve turistov\",\"Primorsko-notranjska Preno�itve turistov\",\"Gori�ka Preno�itve turistov\",\"Obalno-kra�ka Preno�itve turistov\"\n",
    "\n",
    "# read data\n",
    "data = pd.read_csv('data/prenocisca/prenocisca.csv', delimiter=',', encoding='utf-8')\n",
    "\n",
    "# remove first row\n",
    "data = data.drop(data.index[0])\n",
    "\n",
    "# remove second coloumn (DR�AVA) (it is always SLOVENIJA, so it is not needed)\n",
    "data = data.drop(data.columns[1], axis=1)\n",
    "\n",
    "# convert first column to date format\n",
    "data['DAN'] = pd.to_datetime(data['DAN'], format='%d.%m.%Y')\n",
    "\n"
   ]
  },
  {
   "cell_type": "code",
   "execution_count": null,
   "metadata": {},
   "outputs": [],
   "source": []
  }
 ],
 "metadata": {
  "language_info": {
   "name": "python"
  }
 },
 "nbformat": 4,
 "nbformat_minor": 2
}
