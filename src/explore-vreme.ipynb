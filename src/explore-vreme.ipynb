{
 "cells": [
  {
   "cell_type": "code",
   "execution_count": 1,
   "metadata": {},
   "outputs": [],
   "source": [
    "#importi\n",
    "%load_ext autoreload\n",
    "%autoreload 2\n",
    "import pandas as pd\n",
    "import numpy as np\n",
    "import matplotlib.pyplot as plt\n",
    "from constants import *\n",
    "from glob import glob\n",
    "from datetime import datetime\n",
    "import os\n"
   ]
  },
  {
   "cell_type": "code",
   "execution_count": 8,
   "metadata": {},
   "outputs": [
    {
     "name": "stderr",
     "output_type": "stream",
     "text": [
      "/tmp/ipykernel_21441/3306821284.py:13: FutureWarning: DataFrame.applymap has been deprecated. Use DataFrame.map instead.\n",
      "  vreme_data = vreme_data.applymap(lambda x: x.strip() if isinstance(x, str) else x)\n"
     ]
    }
   ],
   "source": [
    "# import weather data \n",
    "vreme_data = pd.read_csv(DATA_VREME, sep=',', encoding='UTF-8')\n",
    "\n",
    "\n",
    "# CLEAN DATA\n",
    "# Drop first column \n",
    "vreme_data.drop(vreme_data.columns[0], axis=1, inplace=True)\n",
    "\n",
    "#strip columns\n",
    "vreme_data.columns = vreme_data.columns.str.strip()\n",
    "\n",
    "# strip all white space \n",
    "vreme_data = vreme_data.applymap(lambda x: x.strip() if isinstance(x, str) else x)\n",
    "\n",
    "vreme_data.head()\n",
    "\n",
    "vreme_data.columns\n",
    "\n",
    "# drop all rows before 2022\n",
    "vreme_data = vreme_data[vreme_data['DATE'] > 20220000]\n",
    "\n",
    "# drop all 2024 rows \n",
    "vreme_data = vreme_data[vreme_data['DATE'] < 20240000]\n",
    "\n",
    "# if Q_RR is 9, then we will drop that row\n",
    "vreme_data = vreme_data[vreme_data['Q_RR'] != 9]\n",
    "\n",
    "# drop the last column\n",
    "vreme_data.drop(vreme_data.columns[-1], axis=1, inplace=True)\n",
    "\n",
    "# convert date to datetime\n",
    "vreme_data['DATE'] = pd.to_datetime(vreme_data['DATE'], format='%Y%m%d')\n",
    "\n"
   ]
  },
  {
   "cell_type": "code",
   "execution_count": 9,
   "metadata": {},
   "outputs": [],
   "source": [
    "#save this into a new file\n",
    "vreme_data.to_csv(OUT_VREME, index=False)"
   ]
  }
 ],
 "metadata": {
  "kernelspec": {
   "display_name": ".venv",
   "language": "python",
   "name": "python3"
  },
  "language_info": {
   "codemirror_mode": {
    "name": "ipython",
    "version": 3
   },
   "file_extension": ".py",
   "mimetype": "text/x-python",
   "name": "python",
   "nbconvert_exporter": "python",
   "pygments_lexer": "ipython3",
   "version": "3.11.8"
  }
 },
 "nbformat": 4,
 "nbformat_minor": 2
}
