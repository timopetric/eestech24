{
 "cells": [
  {
   "cell_type": "code",
   "execution_count": 22,
   "metadata": {},
   "outputs": [
    {
     "name": "stdout",
     "output_type": "stream",
     "text": [
      "The autoreload extension is already loaded. To reload it, use:\n",
      "  %reload_ext autoreload\n"
     ]
    }
   ],
   "source": [
    "#importi\n",
    "%load_ext autoreload\n",
    "%autoreload 2\n",
    "import pandas as pd\n",
    "import numpy as np\n",
    "import matplotlib.pyplot as plt\n",
    "from constants import *\n",
    "from glob import glob\n",
    "from datetime import datetime\n",
    "import os\n"
   ]
  },
  {
   "cell_type": "code",
   "execution_count": 23,
   "metadata": {},
   "outputs": [
    {
     "name": "stderr",
     "output_type": "stream",
     "text": [
      "/tmp/ipykernel_21441/678290929.py:13: FutureWarning: DataFrame.applymap has been deprecated. Use DataFrame.map instead.\n",
      "  vreme_data = vreme_data.applymap(lambda x: x.strip() if isinstance(x, str) else x)\n"
     ]
    }
   ],
   "source": [
    "# import weather data \n",
    "vreme_data = pd.read_csv(DATA_VREME_PERCP, sep=',', encoding='UTF-8')\n",
    "\n",
    "\n",
    "# CLEAN DATA\n",
    "# Drop first column \n",
    "vreme_data.drop(vreme_data.columns[0], axis=1, inplace=True)\n",
    "\n",
    "#strip columns\n",
    "vreme_data.columns = vreme_data.columns.str.strip()\n",
    "\n",
    "# strip all white space \n",
    "vreme_data = vreme_data.applymap(lambda x: x.strip() if isinstance(x, str) else x)\n",
    "\n",
    "\n",
    "# drop all rows before 2022\n",
    "vreme_data = vreme_data[vreme_data['DATE'] > 20220000]\n",
    "\n",
    "# drop all 2024 rows \n",
    "vreme_data = vreme_data[vreme_data['DATE'] < 20240000]\n",
    "\n",
    "# if Q_RR is 9, then we will drop that row\n",
    "vreme_data = vreme_data[vreme_data['Q_RR'] != 9]\n",
    "\n",
    "# drop the last column\n",
    "vreme_data.drop(vreme_data.columns[-1], axis=1, inplace=True)\n",
    "\n",
    "# convert date to datetime\n",
    "vreme_data['DATE'] = pd.to_datetime(vreme_data['DATE'], format='%Y%m%d')\n",
    "\n"
   ]
  },
  {
   "cell_type": "code",
   "execution_count": 24,
   "metadata": {},
   "outputs": [
    {
     "name": "stderr",
     "output_type": "stream",
     "text": [
      "/tmp/ipykernel_21441/819456876.py:6: FutureWarning: DataFrame.applymap has been deprecated. Use DataFrame.map instead.\n",
      "  vreme_sunshine = vreme_sunshine.applymap(lambda x: x.strip() if isinstance(x, str) else x)\n"
     ]
    }
   ],
   "source": [
    "vreme_sunshine = pd.read_csv(DATA_VREME_SUNSHINE, sep=',', encoding='UTF-8')\n",
    "vreme_sunshine.head\n",
    "\n",
    "# strip all white spaces\n",
    "vreme_sunshine.columns = vreme_sunshine.columns.str.strip()\n",
    "vreme_sunshine = vreme_sunshine.applymap(lambda x: x.strip() if isinstance(x, str) else x)\n",
    "\n",
    "#drop first column\n",
    "vreme_sunshine.drop(vreme_sunshine.columns[0], axis=1, inplace=True)\n",
    "\n",
    "#drop all data before 2022 and after 2023\n",
    "vreme_sunshine = vreme_sunshine[vreme_sunshine['DATE'] > 20220000]\n",
    "vreme_sunshine = vreme_sunshine[vreme_sunshine['DATE'] < 20240000]\n",
    "\n",
    "# drop all rows where Q_SS is 9\n",
    "vreme_sunshine = vreme_sunshine[vreme_sunshine['Q_SS'] != 9]\n",
    "\n",
    "# drop the last column\n",
    "vreme_sunshine.drop(vreme_sunshine.columns[-1], axis=1, inplace=True)\n",
    "\n",
    "#convert date to datetime\n",
    "vreme_sunshine['DATE'] = pd.to_datetime(vreme_sunshine['DATE'], format='%Y%m%d')\n",
    "\n",
    "#concatinate this to the vreme_data on date \n",
    "vreme_data = pd.merge(vreme_data, vreme_sunshine, on='DATE', how='outer')\n",
    "\n",
    "\n"
   ]
  },
  {
   "cell_type": "code",
   "execution_count": 27,
   "metadata": {},
   "outputs": [
    {
     "name": "stderr",
     "output_type": "stream",
     "text": [
      "/tmp/ipykernel_21441/231810696.py:5: FutureWarning: DataFrame.applymap has been deprecated. Use DataFrame.map instead.\n",
      "  vreme_temp = vreme_temp.applymap(lambda x: x.strip() if isinstance(x, str) else x)\n"
     ]
    }
   ],
   "source": [
    "vreme_temp = pd.read_csv(DATA_VREME_TEMP, sep=',', encoding='UTF-8')\n",
    "\n",
    "# strip all white spaces\n",
    "vreme_temp.columns = vreme_temp.columns.str.strip()\n",
    "vreme_temp = vreme_temp.applymap(lambda x: x.strip() if isinstance(x, str) else x)\n",
    "\n",
    "#drop first column\n",
    "vreme_temp.drop(vreme_temp.columns[0], axis=1, inplace=True)\n",
    "\n",
    "#drop all data before 2022 and after 2023\n",
    "vreme_temp = vreme_temp[vreme_temp['DATE'] > 20220000]\n",
    "vreme_temp = vreme_temp[vreme_temp['DATE'] < 20240000]\n",
    "\n",
    "# drop all rows where Q_SS is 9\n",
    "vreme_temp = vreme_temp[vreme_temp['Q_TG'] != 9]\n",
    "\n",
    "# drop the last column\n",
    "vreme_temp.drop(vreme_temp.columns[-1], axis=1, inplace=True)\n",
    "\n",
    "#convert date to datetime\n",
    "vreme_temp['DATE'] = pd.to_datetime(vreme_temp['DATE'], format='%Y%m%d')\n",
    "\n",
    "#concatinate this to the vreme_data on date\n",
    "vreme_data = pd.merge(vreme_data, vreme_temp, on='DATE', how='outer')"
   ]
  },
  {
   "cell_type": "code",
   "execution_count": 28,
   "metadata": {},
   "outputs": [],
   "source": [
    "#save this into a new file\n",
    "vreme_data.to_csv(OUT_VREME, index=False)"
   ]
  }
 ],
 "metadata": {
  "kernelspec": {
   "display_name": ".venv",
   "language": "python",
   "name": "python3"
  },
  "language_info": {
   "codemirror_mode": {
    "name": "ipython",
    "version": 3
   },
   "file_extension": ".py",
   "mimetype": "text/x-python",
   "name": "python",
   "nbconvert_exporter": "python",
   "pygments_lexer": "ipython3",
   "version": "3.11.8"
  }
 },
 "nbformat": 4,
 "nbformat_minor": 2
}
