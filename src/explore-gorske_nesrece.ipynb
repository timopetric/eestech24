{
 "cells": [
  {
   "cell_type": "code",
   "execution_count": 3,
   "metadata": {},
   "outputs": [
    {
     "name": "stdout",
     "output_type": "stream",
     "text": [
      "   LokacijaId       NastanekCas  Leto  Skupina dogodka          Dogodek  \\\n",
      "0       17115   8.06.2006 15:51  2006  Nesreče v gorah  nesreče v gorah   \n",
      "1       17192  11.06.2006 04:07  2006  Nesreče v gorah  nesreče v gorah   \n",
      "2       18559  12.07.2006 10:49  2006  Nesreče v gorah  nesreče v gorah   \n",
      "3       18985  20.07.2006 19:24  2006  Nesreče v gorah  nesreče v gorah   \n",
      "4       19053  22.07.2006 10:16  2006  Nesreče v gorah  nesreče v gorah   \n",
      "\n",
      "       WGSLat      WGSLon                                               OPIS  \n",
      "0  46,3914998  14,3304911  Na plezališču v Dolžanovi soteski se je poškod...  \n",
      "1  45,6031168  13,9477586  Gasilci so bili poklicani na pomoč pri prevozu...  \n",
      "2  46,2225002  15,0081657  Občina Tabor\\r\\n2330000 - NESREČE V GORAH\\r\\n\\...  \n",
      "3  46,3102072  13,8824817  Ob 19:24 so nas klicali na pomoč, ker je na Vo...  \n",
      "4  46,3186701  13,7790349  Ob 10.16 uri nas je oskrbnik koče Pri Sedmerih...  \n",
      "   LokacijaId       NastanekCas  Leto  Skupina dogodka          Dogodek  \\\n",
      "0       17115   8.06.2006 15:51  2006  Nesreče v gorah  nesreče v gorah   \n",
      "1       17192  11.06.2006 04:07  2006  Nesreče v gorah  nesreče v gorah   \n",
      "2       18559  12.07.2006 10:49  2006  Nesreče v gorah  nesreče v gorah   \n",
      "3       18985  20.07.2006 19:24  2006  Nesreče v gorah  nesreče v gorah   \n",
      "4       19053  22.07.2006 10:16  2006  Nesreče v gorah  nesreče v gorah   \n",
      "\n",
      "       WGSLat      WGSLon                                               OPIS  \n",
      "0  46,3914998  14,3304911  Na plezališču v Dolžanovi soteski se je poškod...  \n",
      "1  45,6031168  13,9477586  Gasilci so bili poklicani na pomoč pri prevozu...  \n",
      "2  46,2225002  15,0081657  Občina Tabor\\r\\n2330000 - NESREČE V GORAH\\r\\n\\...  \n",
      "3  46,3102072  13,8824817  Ob 19:24 so nas klicali na pomoč, ker je na Vo...  \n",
      "4  46,3186701  13,7790349  Ob 10.16 uri nas je oskrbnik koče Pri Sedmerih...  \n"
     ]
    }
   ],
   "source": [
    "# read csv into df\n",
    "import pandas as pd\n",
    "import numpy as np\n",
    "import matplotlib.pyplot as plt\n",
    "\n",
    "DATA_GORSKE_0 = '../data/gorske_nesrece/Gorske-nesrece-20221129.csv'\n",
    "DATA_GORSKE_1 = '../data/gorske_nesrece/Gorske-od-18.10.2022-dalje.csv'\n",
    "\n",
    "df_gorske_0 = pd.read_csv(DATA_GORSKE_0, sep=';', encoding='UTF-8')\n",
    "df_gorske_1 = pd.read_csv(DATA_GORSKE_0, sep=';', encoding='UTF-8')\n",
    "\n",
    "print(df_gorske_0.head())\n",
    "print(df_gorske_1.head())"
   ]
  }
 ],
 "metadata": {
  "kernelspec": {
   "display_name": "dm",
   "language": "python",
   "name": "python3"
  },
  "language_info": {
   "codemirror_mode": {
    "name": "ipython",
    "version": 3
   },
   "file_extension": ".py",
   "mimetype": "text/x-python",
   "name": "python",
   "nbconvert_exporter": "python",
   "pygments_lexer": "ipython3",
   "version": "3.11.5"
  }
 },
 "nbformat": 4,
 "nbformat_minor": 2
}
